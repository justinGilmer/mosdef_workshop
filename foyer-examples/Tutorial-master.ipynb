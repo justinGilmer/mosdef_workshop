{
 "cells": [
  {
   "cell_type": "markdown",
   "metadata": {},
   "source": [
    "# MoSDeF: A Molecular Simulation and Design Framework\n",
    "\n",
    "The Molecular Simulation and Design Framework (MoSDeF) is a collection of open-source tools ([hosted on Github](https://github.com/mosdef-hub)) aimed at facilitating the construction and simulation of complex molecular systems - with a particular focus on the automated screening of large structural parameter spaces. All tools are written as Python packages and feature a Python-based API."
   ]
  },
  {
   "cell_type": "markdown",
   "metadata": {},
   "source": [
    "## Basic Foyer tutorial\n",
    "\n",
    "The second of the MoSDeF tools we will explore is the [Foyer package](https://github.com/mosdef-hub/foyer) which provides a means for the automated application and dissemination of forcefields."
   ]
  },
  {
   "cell_type": "markdown",
   "metadata": {},
   "source": [
    "### Foyer XML format\n",
    "\n",
    "The Foyer XML format is an extension of the [OpenMM forcefield XML format](http://docs.openmm.org/7.0.0/userguide/application.html#creating-force-fields) that allows both atomtype definitions and forcefield parameters to be defined within a single file.\n",
    "\n",
    "[SMARTS](http://www.daylight.com/dayhtml/doc/theory/theory.smarts.html)"
   ]
  },
  {
   "cell_type": "markdown",
   "metadata": {},
   "source": [
    "#### AtomTypes"
   ]
  },
  {
   "cell_type": "code",
   "execution_count": 1,
   "metadata": {},
   "outputs": [
    {
     "name": "stdout",
     "output_type": "stream",
     "text": [
      "    <AtomTypes>\r\n",
      "        <Type name=\"opls_135\" def=\"O\"\r\n",
      "              class=\"CT\" element=\"C\" mass=\"12.01100\" desc=\"alkane CH3\"\r\n",
      "              doi=\"10.1021/ja9621760\" overrides=\"opls_136\"/>\r\n",
      "\r\n",
      "        <Type name=\"opls_136\" def=\"O\"\r\n",
      "              class=\"CT\" element=\"C\" mass=\"12.01100\" desc=\"alkane CH2\"\r\n",
      "              doi=\"10.1021/ja9621760\"/>\r\n",
      "\r\n",
      "        <Type name=\"opls_138\" def=\"O\"\r\n",
      "              class=\"CT\" element=\"C\" mass=\"12.01100\" desc=\"alkane CH4\"\r\n",
      "              doi=\"10.1021/ja9621760\" overrides=\"opls_135,opls_136\"/>\r\n",
      "\r\n",
      "        <Type name=\"opls_140\" def=\"O\"\r\n",
      "              class=\"HC\" element=\"H\" mass=\"1.00800\" desc=\"alkane H\"\r\n",
      "              doi=\"10.1021/ja9621760\"/>\r\n",
      "    </AtomTypes>\r\n"
     ]
    }
   ],
   "source": [
    "! sed -n 2,18p forcefield.xml"
   ]
  },
  {
   "cell_type": "markdown",
   "metadata": {},
   "source": [
    "The `AtomTypes` section of the Foyer XML is similar to that used for OpenMM forcefield XMLs; however, each `Type` in a Foyer XML supports four additional attributes not found in OpenMM:\n",
    "* `def` - SMARTS string describing the chemical substructure of this atomtype\n",
    "* `desc` - Brief description of the atomtype\n",
    "* `doi` - DOI reference for parameters associated with this atomtype\n",
    "* `overrides` - One or more atomtypes to 'override', providing precedence to this atomtype"
   ]
  },
  {
   "cell_type": "markdown",
   "metadata": {},
   "source": [
    "#### Forcefield parameters\n",
    "\n",
    "The remaining sections of the Foyer XML are currently the same as defined in the OpenMM format and feature both the bonded and nonbonded forcefield parameters."
   ]
  },
  {
   "cell_type": "code",
   "execution_count": 2,
   "metadata": {},
   "outputs": [
    {
     "name": "stdout",
     "output_type": "stream",
     "text": [
      "    <HarmonicBondForce>\r\n",
      "        <Bond class1=\"CT\" class2=\"CT\" length=\"0.1529\" k=\"224262.4\"/>\r\n",
      "        <Bond class1=\"CT\" class2=\"HC\" length=\"0.1090\" k=\"284512.0\"/>\r\n",
      "    </HarmonicBondForce>\r\n",
      "    <HarmonicAngleForce>\r\n",
      "        <Angle class1=\"CT\" class2=\"CT\" class3=\"CT\" angle=\"1.966986067\" k=\"488.273\"/>\r\n",
      "        <Angle class1=\"CT\" class2=\"CT\" class3=\"HC\" angle=\"1.932079482\" k=\"313.800\"/>\r\n",
      "        <Angle class1=\"HC\" class2=\"CT\" class3=\"HC\" angle=\"1.881464934\" k=\"276.144\"/>\r\n",
      "    </HarmonicAngleForce>\r\n",
      "    <RBTorsionForce>\r\n",
      "        <Proper class1=\"CT\" class2=\"CT\" class3=\"CT\" class4=\"CT\" c0=\"2.9288\"\r\n",
      "                c1=\"-1.4644\" c2=\"0.2092\" c3=\"-1.6736\" c4=\"0.0\" c5=\"0.0\"/>\r\n",
      "        <Proper class1=\"CT\" class2=\"CT\" class3=\"CT\" class4=\"HC\" c0=\"0.6276\"\r\n",
      "                c1=\"1.8828\" c2=\"0.0\" c3=\"-2.5104\" c4=\"0.0\" c5=\"0.0\"/>\r\n",
      "        <Proper class1=\"HC\" class2=\"CT\" class3=\"CT\" class4=\"HC\" c0=\"0.6276\"\r\n",
      "                c1=\"1.8828\" c2=\"0.0\" c3=\"-2.5104\" c4=\"0.0\" c5=\"0.0\"/>\r\n",
      "    </RBTorsionForce>\r\n",
      "    <NonbondedForce coulomb14scale=\"0.5\" lj14scale=\"0.5\">\r\n",
      "        <Atom type=\"opls_135\" charge=\"-0.18\" sigma=\"0.35\" epsilon=\"0.276144\"/>\r\n",
      "        <Atom type=\"opls_136\" charge=\"-0.12\" sigma=\"0.35\" epsilon=\"0.276144\"/>\r\n",
      "        <Atom type=\"opls_138\" charge=\"-0.24\" sigma=\"0.35\" epsilon=\"0.276144\"/>\r\n",
      "        <Atom type=\"opls_140\" charge=\"0.06\" sigma=\"0.25\" epsilon=\"0.12552\"/>\r\n",
      "    </NonbondedForce>\r\n"
     ]
    }
   ],
   "source": [
    "! sed -n 19,41p forcefield.xml"
   ]
  },
  {
   "cell_type": "markdown",
   "metadata": {},
   "source": [
    "### Constructing a Foyer XML\n",
    "\n",
    "Blah blah blah, something about the template repo and test molecules"
   ]
  },
  {
   "cell_type": "markdown",
   "metadata": {},
   "source": [
    "Now we'll work to construct a valid Foyer forcefield XML that can correctly parameterize linear alkanes according to the OPLS forcefield. Our forcefield is already mostly complete (all parameters and atomtypes are included); however, you'll notice that the `def` attribute of each atomtype features an `'_undefined'` string rather than a SMARTS. We will have to correctly define the SMARTS for these atomtypes for Foyer to be able to successfully parameterize our molecules. To test our forcefield, we will have to run the `test_atomtyping.py` script which will use our Foyer XML to attempt to atomtype three alkane molecules (methane, ethane, and propane) and will compare the resulting atomtypes assigned by Foyer to the known atomtypes.\n",
    "\n",
    "Let's go ahead and run `test_atomtyping.py` to see what happens."
   ]
  },
  {
   "cell_type": "code",
   "execution_count": 3,
   "metadata": {},
   "outputs": [
    {
     "name": "stdout",
     "output_type": "stream",
     "text": [
      "\u001b[1m============================= test session starts ==============================\u001b[0m\n",
      "platform darwin -- Python 3.5.2, pytest-3.1.1, py-1.4.32, pluggy-0.4.0\n",
      "rootdir: /Users/summeraz/mosdef_workshop/foyer-examples, inifile:\n",
      "collected 3 items \u001b[0m\u001b[1m\n",
      "\u001b[0m\n",
      "test_atomtyping.py FFF\n",
      "\n",
      "=================================== FAILURES ===================================\n",
      "\u001b[31m\u001b[1m_________________ test_atomtyping[test_molecules/ethane.mol2] __________________\u001b[0m\n",
      "\n",
      "mol2_file = 'test_molecules/ethane.mol2'\n",
      "\n",
      "\u001b[1m    @pytest.mark.parametrize('mol2_file', MOL2_FILES)\u001b[0m\n",
      "\u001b[1m    def test_atomtyping(mol2_file):\u001b[0m\n",
      "\u001b[1m        structure = pmd.load_file(mol2_file, structure=True)\u001b[0m\n",
      "\u001b[1m>       atomtype(structure, FORCEFIELD)\u001b[0m\n",
      "\n",
      "\u001b[1m\u001b[31mtest_atomtyping.py\u001b[0m:17: \n",
      "_ _ _ _ _ _ _ _ _ _ _ _ _ _ _ _ _ _ _ _ _ _ _ _ _ _ _ _ _ _ _ _ _ _ _ _ _ _ _ _ \n",
      "\u001b[1m\u001b[31m../../foyer/foyer/tests/utils.py\u001b[0m:28: in atomtype\n",
      "\u001b[1m    typed_structure = forcefield.apply(structure)\u001b[0m\n",
      "\u001b[1m\u001b[31m../../foyer/foyer/forcefield.py\u001b[0m:317: in apply\n",
      "\u001b[1m    system = self.createSystem(topology, *args, **kwargs)\u001b[0m\n",
      "\u001b[1m\u001b[31m../../foyer/foyer/forcefield.py\u001b[0m:380: in createSystem\n",
      "\u001b[1m    find_atomtypes(residue, forcefield=self)\u001b[0m\n",
      "\u001b[1m\u001b[31m../../foyer/foyer/atomtyper.py\u001b[0m:43: in find_atomtypes\n",
      "\u001b[1m    _resolve_atomtypes(topology)\u001b[0m\n",
      "_ _ _ _ _ _ _ _ _ _ _ _ _ _ _ _ _ _ _ _ _ _ _ _ _ _ _ _ _ _ _ _ _ _ _ _ _ _ _ _ \n",
      "\n",
      "topology = <Topology; 1 chains, 1 residues, 8 atoms, 7 bonds>\n",
      "\n",
      "\u001b[1m    def _resolve_atomtypes(topology):\u001b[0m\n",
      "\u001b[1m        \"\"\"Determine the final atomtypes from the white- and blacklists. \"\"\"\u001b[0m\n",
      "\u001b[1m        for atom in topology.atoms():\u001b[0m\n",
      "\u001b[1m>           atomtype = [rule_name for rule_name in atom.whitelist - atom.blacklist]\u001b[0m\n",
      "\u001b[1m\u001b[31mE           AttributeError: 'Atom' object has no attribute 'whitelist'\u001b[0m\n",
      "\n",
      "\u001b[1m\u001b[31m../../foyer/foyer/atomtyper.py\u001b[0m:96: AttributeError\n",
      "\u001b[31m\u001b[1m_________________ test_atomtyping[test_molecules/methane.mol2] _________________\u001b[0m\n",
      "\n",
      "mol2_file = 'test_molecules/methane.mol2'\n",
      "\n",
      "\u001b[1m    @pytest.mark.parametrize('mol2_file', MOL2_FILES)\u001b[0m\n",
      "\u001b[1m    def test_atomtyping(mol2_file):\u001b[0m\n",
      "\u001b[1m        structure = pmd.load_file(mol2_file, structure=True)\u001b[0m\n",
      "\u001b[1m>       atomtype(structure, FORCEFIELD)\u001b[0m\n",
      "\n",
      "\u001b[1m\u001b[31mtest_atomtyping.py\u001b[0m:17: \n",
      "_ _ _ _ _ _ _ _ _ _ _ _ _ _ _ _ _ _ _ _ _ _ _ _ _ _ _ _ _ _ _ _ _ _ _ _ _ _ _ _ \n",
      "\u001b[1m\u001b[31m../../foyer/foyer/tests/utils.py\u001b[0m:28: in atomtype\n",
      "\u001b[1m    typed_structure = forcefield.apply(structure)\u001b[0m\n",
      "\u001b[1m\u001b[31m../../foyer/foyer/forcefield.py\u001b[0m:317: in apply\n",
      "\u001b[1m    system = self.createSystem(topology, *args, **kwargs)\u001b[0m\n",
      "\u001b[1m\u001b[31m../../foyer/foyer/forcefield.py\u001b[0m:380: in createSystem\n",
      "\u001b[1m    find_atomtypes(residue, forcefield=self)\u001b[0m\n",
      "\u001b[1m\u001b[31m../../foyer/foyer/atomtyper.py\u001b[0m:43: in find_atomtypes\n",
      "\u001b[1m    _resolve_atomtypes(topology)\u001b[0m\n",
      "_ _ _ _ _ _ _ _ _ _ _ _ _ _ _ _ _ _ _ _ _ _ _ _ _ _ _ _ _ _ _ _ _ _ _ _ _ _ _ _ \n",
      "\n",
      "topology = <Topology; 1 chains, 1 residues, 5 atoms, 4 bonds>\n",
      "\n",
      "\u001b[1m    def _resolve_atomtypes(topology):\u001b[0m\n",
      "\u001b[1m        \"\"\"Determine the final atomtypes from the white- and blacklists. \"\"\"\u001b[0m\n",
      "\u001b[1m        for atom in topology.atoms():\u001b[0m\n",
      "\u001b[1m>           atomtype = [rule_name for rule_name in atom.whitelist - atom.blacklist]\u001b[0m\n",
      "\u001b[1m\u001b[31mE           AttributeError: 'Atom' object has no attribute 'whitelist'\u001b[0m\n",
      "\n",
      "\u001b[1m\u001b[31m../../foyer/foyer/atomtyper.py\u001b[0m:96: AttributeError\n",
      "\u001b[31m\u001b[1m_________________ test_atomtyping[test_molecules/propane.mol2] _________________\u001b[0m\n",
      "\n",
      "mol2_file = 'test_molecules/propane.mol2'\n",
      "\n",
      "\u001b[1m    @pytest.mark.parametrize('mol2_file', MOL2_FILES)\u001b[0m\n",
      "\u001b[1m    def test_atomtyping(mol2_file):\u001b[0m\n",
      "\u001b[1m        structure = pmd.load_file(mol2_file, structure=True)\u001b[0m\n",
      "\u001b[1m>       atomtype(structure, FORCEFIELD)\u001b[0m\n",
      "\n",
      "\u001b[1m\u001b[31mtest_atomtyping.py\u001b[0m:17: \n",
      "_ _ _ _ _ _ _ _ _ _ _ _ _ _ _ _ _ _ _ _ _ _ _ _ _ _ _ _ _ _ _ _ _ _ _ _ _ _ _ _ \n",
      "\u001b[1m\u001b[31m../../foyer/foyer/tests/utils.py\u001b[0m:28: in atomtype\n",
      "\u001b[1m    typed_structure = forcefield.apply(structure)\u001b[0m\n",
      "\u001b[1m\u001b[31m../../foyer/foyer/forcefield.py\u001b[0m:317: in apply\n",
      "\u001b[1m    system = self.createSystem(topology, *args, **kwargs)\u001b[0m\n",
      "\u001b[1m\u001b[31m../../foyer/foyer/forcefield.py\u001b[0m:380: in createSystem\n",
      "\u001b[1m    find_atomtypes(residue, forcefield=self)\u001b[0m\n",
      "\u001b[1m\u001b[31m../../foyer/foyer/atomtyper.py\u001b[0m:43: in find_atomtypes\n",
      "\u001b[1m    _resolve_atomtypes(topology)\u001b[0m\n",
      "_ _ _ _ _ _ _ _ _ _ _ _ _ _ _ _ _ _ _ _ _ _ _ _ _ _ _ _ _ _ _ _ _ _ _ _ _ _ _ _ \n",
      "\n",
      "topology = <Topology; 1 chains, 1 residues, 11 atoms, 10 bonds>\n",
      "\n",
      "\u001b[1m    def _resolve_atomtypes(topology):\u001b[0m\n",
      "\u001b[1m        \"\"\"Determine the final atomtypes from the white- and blacklists. \"\"\"\u001b[0m\n",
      "\u001b[1m        for atom in topology.atoms():\u001b[0m\n",
      "\u001b[1m>           atomtype = [rule_name for rule_name in atom.whitelist - atom.blacklist]\u001b[0m\n",
      "\u001b[1m\u001b[31mE           AttributeError: 'Atom' object has no attribute 'whitelist'\u001b[0m\n",
      "\n",
      "\u001b[1m\u001b[31m../../foyer/foyer/atomtyper.py\u001b[0m:96: AttributeError\n",
      "\u001b[31m\u001b[1m=========================== 3 failed in 2.56 seconds ===========================\u001b[0m\n"
     ]
    }
   ],
   "source": [
    "! py.test test_atomtyping.py"
   ]
  },
  {
   "cell_type": "markdown",
   "metadata": {},
   "source": [
    "### Foyer + mBuild\n",
    "\n",
    "Foyer has been designed to integrate seamlessly with mBuild, although it can also be used as a standalone package. To call Foyer from mBuild all a user needs to do is specify the forcefield XML file to use by passing `forcefield_files` flag to `Compound.save()`. Internally this will perform parameterization of the mBuild `Compound` using Foyer.\n",
    "\n",
    "Additionally, the `references_file` flag can be used to output a file (in BibTeX format) containing the references for the parameters used for parameterization of this `Compound`.\n",
    "\n",
    "Here, we explore this functionality by loading a simple methane molecule into an mBuild `Compound` and save using the forcefield we've just defined."
   ]
  },
  {
   "cell_type": "code",
   "execution_count": 4,
   "metadata": {},
   "outputs": [],
   "source": [
    "import mbuild as mb\n",
    "\n",
    "ch4 = mb.load('ch4.pdb')\n",
    "ch4.save('ch4.top', forcefield_files='forcefield_master.xml', references_file='ch4.bib', overwrite=True)"
   ]
  },
  {
   "cell_type": "code",
   "execution_count": 5,
   "metadata": {},
   "outputs": [
    {
     "name": "stdout",
     "output_type": "stream",
     "text": [
      ";\r\n",
      ";   File ch4.top  was generated\r\n",
      ";   By user: summeraz (501)\r\n",
      ";   On host: Andrews-MacBook-Pro.local\r\n",
      ";   At date: Wed. October  3 16:40:38 2017\r\n",
      ";\r\n",
      ";   This is a standalone topology file\r\n",
      ";\r\n",
      ";   Created by:\r\n",
      ";   ParmEd:       ipykernel_launcher.py, VERSION 2.7.3\r\n",
      ";   Executable:   ipykernel_launcher.py\r\n",
      ";   Library dir:  /usr/local/gromacs/share/gromacs/top\r\n",
      ";   Command line:\r\n",
      ";     /Users/summeraz/anaconda/envs/py3/lib/python3.5/site-packages/ipykernel_launcher.py -f /Users/summeraz/Library/Jupyter/runtime/kernel-e15fdb7a-5736-4323-9bfe-14a85e0a9386.json\r\n",
      ";\r\n",
      "\r\n",
      "[ defaults ]\r\n",
      "; nbfunc        comb-rule       gen-pairs       fudgeLJ fudgeQQ\r\n",
      "1               2               yes             1             1\r\n",
      "\r\n",
      "[ atomtypes ]\r\n",
      "; name    at.num    mass    charge ptype  sigma      epsilon\r\n",
      "opls_138        6   12.01078    0.000000  A          0.35      0.276144\r\n",
      "opls_140        1    1.00795    0.000000  A          0.25       0.12552\r\n",
      "\r\n",
      "\r\n",
      "[ moleculetype ]\r\n",
      "; Name            nrexcl\r\n",
      "RES          3\r\n",
      "\r\n",
      "[ atoms ]\r\n",
      ";   nr       type  resnr residue  atom   cgnr    charge       mass  typeB    chargeB      massB\r\n",
      "; residue    1 RES rtp RES q 0.0\r\n",
      "    1   opls_138      1    RES      C      1  -0.240000    12.0108   ; qtot -0.2400\r\n",
      "    2   opls_140      1    RES      H      2   0.060000     1.0079   ; qtot -0.1800\r\n",
      "    3   opls_140      1    RES      H      3   0.060000     1.0079   ; qtot -0.1200\r\n",
      "    4   opls_140      1    RES      H      4   0.060000     1.0079   ; qtot -0.0600\r\n",
      "    5   opls_140      1    RES      H      5   0.060000     1.0079   ; qtot 0.0000\r\n",
      "\r\n",
      "[ bonds ]\r\n",
      ";    ai     aj funct         c0         c1         c2         c3\r\n",
      "      1      3     1   0.10900 284512.000000\r\n",
      "      2      1     1   0.10900 284512.000000\r\n",
      "      4      1     1   0.10900 284512.000000\r\n",
      "      5      1     1   0.10900 284512.000000\r\n",
      "\r\n",
      "[ angles ]\r\n",
      ";    ai     aj     ak funct         c0         c1         c2         c3\r\n",
      "      2      1      3     1   107.80000 276.144000\r\n",
      "      2      1      4     1   107.80000 276.144000\r\n",
      "      2      1      5     1   107.80000 276.144000\r\n",
      "      3      1      4     1   107.80000 276.144000\r\n",
      "      3      1      5     1   107.80000 276.144000\r\n",
      "      4      1      5     1   107.80000 276.144000\r\n",
      "\r\n",
      "[ system ]\r\n",
      "; Name\r\n",
      "Generic title\r\n",
      "\r\n",
      "[ molecules ]\r\n",
      "; Compound       #mols\r\n",
      "RES                  1\r\n"
     ]
    }
   ],
   "source": [
    "! cat ch4.top"
   ]
  },
  {
   "cell_type": "code",
   "execution_count": 6,
   "metadata": {},
   "outputs": [
    {
     "name": "stdout",
     "output_type": "stream",
     "text": [
      "@article{Jorgensen_1996,\r\n",
      "\tdoi = {10.1021/ja9621760},\r\n",
      "\turl = {https://doi.org/10.1021%2Fja9621760},\r\n",
      "\tyear = 1996,\r\n",
      "\tmonth = {jan},\r\n",
      "\tpublisher = {American Chemical Society ({ACS})},\r\n",
      "\tvolume = {118},\r\n",
      "\tnumber = {45},\r\n",
      "\tpages = {11225--11236},\r\n",
      "\tauthor = {William L. Jorgensen and David S. Maxwell and Julian Tirado-Rives},\r\n",
      "\ttitle = {Development and Testing of the {OPLS} All-Atom Force Field on Conformational Energetics and Properties of Organic Liquids},\r\n",
      "\tjournal = {Journal of the American Chemical Society},\r\n",
      "\tnote = {Parameters for atom types: opls_140, opls_138}\r\n",
      "}\r\n"
     ]
    }
   ],
   "source": [
    "! cat ch4.bib"
   ]
  },
  {
   "cell_type": "markdown",
   "metadata": {},
   "source": [
    "### Using Foyer as a standalone package"
   ]
  },
  {
   "cell_type": "code",
   "execution_count": 7,
   "metadata": {},
   "outputs": [],
   "source": [
    "from foyer import Forcefield\n",
    "import parmed as pmd\n",
    "\n",
    "untyped_ch4 = pmd.load_file('ch4.pdb', structure=True)\n",
    "forcefield = Forcefield(forcefield_files='forcefield_master.xml')\n",
    "ch4 = forcefield.apply(untyped_ch4)\n",
    "\n",
    "ch4.save('ch4.top', overwrite=True)"
   ]
  },
  {
   "cell_type": "code",
   "execution_count": 8,
   "metadata": {},
   "outputs": [
    {
     "name": "stdout",
     "output_type": "stream",
     "text": [
      ";\r\n",
      ";   File ch4.top  was generated\r\n",
      ";   By user: summeraz (501)\r\n",
      ";   On host: Andrews-MacBook-Pro.local\r\n",
      ";   At date: Wed. October  3 16:40:49 2017\r\n",
      ";\r\n",
      ";   This is a standalone topology file\r\n",
      ";\r\n",
      ";   Created by:\r\n",
      ";   ParmEd:       ipykernel_launcher.py, VERSION 2.7.3\r\n",
      ";   Executable:   ipykernel_launcher.py\r\n",
      ";   Library dir:  /usr/local/gromacs/share/gromacs/top\r\n",
      ";   Command line:\r\n",
      ";     /Users/summeraz/anaconda/envs/py3/lib/python3.5/site-packages/ipykernel_launcher.py -f /Users/summeraz/Library/Jupyter/runtime/kernel-e15fdb7a-5736-4323-9bfe-14a85e0a9386.json\r\n",
      ";\r\n",
      "\r\n",
      "[ defaults ]\r\n",
      "; nbfunc        comb-rule       gen-pairs       fudgeLJ fudgeQQ\r\n",
      "1               2               yes             1             1\r\n",
      "\r\n",
      "[ atomtypes ]\r\n",
      "; name    at.num    mass    charge ptype  sigma      epsilon\r\n",
      "opls_138        6   12.01078    0.000000  A          0.35      0.276144\r\n",
      "opls_140        1    1.00795    0.000000  A          0.25       0.12552\r\n",
      "\r\n",
      "\r\n",
      "[ moleculetype ]\r\n",
      "; Name            nrexcl\r\n",
      "UNL          3\r\n",
      "\r\n",
      "[ atoms ]\r\n",
      ";   nr       type  resnr residue  atom   cgnr    charge       mass  typeB    chargeB      massB\r\n",
      "; residue    1 UNL rtp UNL q 0.0\r\n",
      "    1   opls_138      1    UNL      C      1  -0.240000    12.0108   ; qtot -0.2400\r\n",
      "    2   opls_140      1    UNL      H      2   0.060000     1.0079   ; qtot -0.1800\r\n",
      "    3   opls_140      1    UNL      H      3   0.060000     1.0079   ; qtot -0.1200\r\n",
      "    4   opls_140      1    UNL      H      4   0.060000     1.0079   ; qtot -0.0600\r\n",
      "    5   opls_140      1    UNL      H      5   0.060000     1.0079   ; qtot 0.0000\r\n",
      "\r\n",
      "[ bonds ]\r\n",
      ";    ai     aj funct         c0         c1         c2         c3\r\n",
      "      1      2     1   0.10900 284512.000000\r\n",
      "      1      3     1   0.10900 284512.000000\r\n",
      "      1      4     1   0.10900 284512.000000\r\n",
      "      1      5     1   0.10900 284512.000000\r\n",
      "\r\n",
      "[ angles ]\r\n",
      ";    ai     aj     ak funct         c0         c1         c2         c3\r\n",
      "      2      1      3     1   107.80000 276.144000\r\n",
      "      2      1      4     1   107.80000 276.144000\r\n",
      "      2      1      5     1   107.80000 276.144000\r\n",
      "      3      1      4     1   107.80000 276.144000\r\n",
      "      3      1      5     1   107.80000 276.144000\r\n",
      "      4      1      5     1   107.80000 276.144000\r\n",
      "\r\n",
      "[ system ]\r\n",
      "; Name\r\n",
      "Generic title\r\n",
      "\r\n",
      "[ molecules ]\r\n",
      "; Compound       #mols\r\n",
      "UNL                  1\r\n"
     ]
    }
   ],
   "source": [
    "! cat ch4.top"
   ]
  },
  {
   "cell_type": "markdown",
   "metadata": {},
   "source": [
    "## Quick-start\n",
    "\n",
    "If you are interested in defining your existing forcefield(s) in the Foyer XML format, we currently have a forcefield template hosted on Github to help you get started - https://github.com/mosdef-hub/forcefield_template. We also refer interested users to the [OpenMM documentation](http://docs.openmm.org/7.0.0/userguide/application.html#creating-force-fields) for detailed instructions on forcefield creation."
   ]
  },
  {
   "cell_type": "code",
   "execution_count": null,
   "metadata": {
    "collapsed": true
   },
   "outputs": [],
   "source": []
  }
 ],
 "metadata": {
  "kernelspec": {
   "display_name": "Python 3",
   "language": "python",
   "name": "python3"
  },
  "language_info": {
   "codemirror_mode": {
    "name": "ipython",
    "version": 3
   },
   "file_extension": ".py",
   "mimetype": "text/x-python",
   "name": "python",
   "nbconvert_exporter": "python",
   "pygments_lexer": "ipython3",
   "version": "3.5.2"
  }
 },
 "nbformat": 4,
 "nbformat_minor": 2
}
