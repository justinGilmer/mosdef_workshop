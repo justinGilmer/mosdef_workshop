{
 "cells": [
  {
   "cell_type": "markdown",
   "metadata": {},
   "source": [
    "# MoSDeF: A Molecular Simulation and Design Framework\n",
    "\n",
    "The Molecular Simulation and Design Framework (MoSDeF) is a collection of open-source tools ([hosted on Github](https://github.com/mosdef-hub)) aimed at facilitating the construction and simulation of complex molecular systems - with a particular focus on the automated screening of large structural parameter spaces. All tools are written as Python packages and feature a Python-based API."
   ]
  },
  {
   "cell_type": "markdown",
   "metadata": {},
   "source": [
    "## Basic mBuild tutorial\n",
    "\n",
    "The first of the MoSDeF tools we will explore is the [mBuild package](http://mosdef-hub.github.io/mbuild/), which utilizes a hierarchical, component-based approach to molecule construction, allowing complex systems to be built using a subset of re-usable parts, just like Legos! In this tutorial we will explore some of mBuild's basic functionality by constructing a linear alkane chain. We'll then examine how mBuild's component-based design approach allows components to be easily swapped to facilitate structural screening."
   ]
  },
  {
   "cell_type": "markdown",
   "metadata": {},
   "source": [
    "### Hierarchical design approach\n",
    "\n",
    "mBuild uses a [composite design pattern](https://en.wikipedia.org/wiki/Composite_pattern) to approach the creation of complex molecular systems. This yields the following features:\n",
    "* Molecules feature a tree-like hierarchy (as shown in the figure below)\n",
    "* All components in the hierarchy feature a common data structure (an mBuild `Compound`)\n",
    "* The lowest level of the hierarchy (the 'leaves') are referred to as `Particles` and are typically individual atoms\n",
    "* Atomic positions are maintained only at the `Particle` level; higher level components can compute properties based on contained `Particles`\n",
    "\n",
    "Below is an example of an mBuild molecule hierarchy for an alkylsilane monolayer attached to a crystalline silica surface.\n",
    "<img src=\"hierarchical_design_image.png\" alt=\"Drawing\" style=\"width: 700px;\"/>"
   ]
  },
  {
   "cell_type": "markdown",
   "metadata": {},
   "source": [
    "### Primer on using Jupyter notebooks\n",
    "\n",
    "[Jupyter notebooks](https://jupyter-notebook.readthedocs.io/en/stable/) provide an interactive environment for \"developing, documenting, and executing code\". Several languages are supported; however here we will be using Python. \n",
    "\n",
    "Jupyter notebooks feature two primary types of cells:\n",
    "1. Markdown cells, like this cell, which contain explanatory text\n",
    "2. Code cells, that can be executed by either clicking on the \"run cell\" icon or by hitting SHIFT + ENTER.\n",
    "\n",
    "Cells do not have to be executed in order (however the cells in this tutorial are designed to be executed sequentially), and the order in which cells have been executed is recorded by the bracketed number to the left of the code cell (e.g. [ 1 ]). When a cell is executed you will first see an asterisk (i.e. [ * ]) which means that the cell is still running. When the asterisk is replaced by a number this means the execution has completed."
   ]
  },
  {
   "cell_type": "markdown",
   "metadata": {},
   "source": [
    "### Importing mBuild\n",
    "\n",
    "To begin using mBuild we need to import the mBuild package, which is available through both the [Anaconda](https://anaconda.org/mosdef/mbuild) and [pip](https://pypi.python.org/pypi/mbuild/0.7.2) package managers. mBuild can also be downloaded from source, which is hosted on [Github](https://github.com/mosdef-hub/mbuild).\n",
    "\n",
    "Here, we'll import the mBuild package along with a `visualize` routine that will allow us to view our molecules along the way. The `%matplotlib notebook` routine is a Jupyter 'magic' command that allows us to interactively view matplotlib figures within a notebook."
   ]
  },
  {
   "cell_type": "code",
   "execution_count": null,
   "metadata": {
    "collapsed": true
   },
   "outputs": [],
   "source": [
    "%matplotlib notebook\n",
    "from visualize import visualize\n",
    "import mbuild as mb"
   ]
  },
  {
   "cell_type": "markdown",
   "metadata": {},
   "source": [
    "### The `Compound` class\n",
    "\n",
    "The base class of mBuild is the `Compound` class, which defines the primary building block used for constructing molecules. Molecules are constructed hierarchically; however, each level of the hierarchy inherits from the `Compound` class. This means that `Compounds` may contain other `Compounds`, and that the same methods and attributes are present for molecule components at any level of the hierarchy. There are several ways to interrogate what is contained within a `Compound` (e.g. `type`, `dir`, `list`). mBuild `Compounds` feature [a variety of useful methods and attributes](http://mosdef-hub.github.io/mbuild/data_structures.html) to facilitate system construction.\n",
    "\n",
    "#### Exercise\n",
    "Try using the `type` and `dir` functions to explore the `Compound` data type and attributes."
   ]
  },
  {
   "cell_type": "code",
   "execution_count": null,
   "metadata": {
    "collapsed": true
   },
   "outputs": [],
   "source": [
    "my_compound = mb.Compound()"
   ]
  },
  {
   "cell_type": "markdown",
   "metadata": {},
   "source": [
    "### Creating `Compounds`\n",
    "\n",
    "There are several ways that `Compounds` can be created with mBuild. The simplest is to construct them from `Particles`. The `Particle` class is used to define `Compounds` residing at the lowest level of the containment hierarchy. Standard mBuild protocol is to define `Particle` names according to their elemental symbol (e.g. `'C'`), or to preface `Particle` names by an underscore for coarse-grained beads (e.g. `'_CH4'`). This aids in the atomtyping and forcefield application process (using the Foyer package) which we will get back to later.\n",
    "\n",
    "Now, lets create a simple carbon `Particle`. [Several arguments are available](http://mosdef-hub.github.io/mbuild/data_structures.html#mbuild.compound.Compound) to set various `Compound`/`Particle` attributes upon instantiation. Here, we'll use the `name` argument to specify the element of our `Particle` and the `pos` argument to specify the location of the `Particle` in Cartesian space.\n",
    "\n",
    "**Note:** mBuild expects all distance units to be in nanometers."
   ]
  },
  {
   "cell_type": "code",
   "execution_count": null,
   "metadata": {
    "collapsed": true
   },
   "outputs": [],
   "source": [
    "carbon = mb.Particle(name='C', pos=[1.0, 2.0, 3.0])\n",
    "carbon"
   ]
  },
  {
   "cell_type": "markdown",
   "metadata": {},
   "source": [
    "Individual atoms are boring. Let's try now to create a simple CH2 moiety. (Don't worry about the undercoordinated carbon; we'll be using this later to piece together an alkane chain.)\n",
    "\n",
    "The first step we need to take is to create an empty mBuild `Compound` to add our `Particles` to (we can give this `Compound` a name if we'd like)."
   ]
  },
  {
   "cell_type": "code",
   "execution_count": null,
   "metadata": {
    "collapsed": true
   },
   "outputs": [],
   "source": [
    "ch2 = mb.Compound()"
   ]
  },
  {
   "cell_type": "markdown",
   "metadata": {},
   "source": [
    "Now we need to create three `Particles`: one carbon and two hydrogens. We'll manually set the atomic positions such that they represent realistic atomic spacings.\n",
    "\n",
    "#### Exercise\n",
    "Define two hydrogen `Particles`, with variables titled `hydrogen` and `hydrogen2` at distances of 0.1nm from the carbon `Particle`."
   ]
  },
  {
   "cell_type": "code",
   "execution_count": null,
   "metadata": {
    "collapsed": true
   },
   "outputs": [],
   "source": [
    "carbon = mb.Particle(pos=[0.0, 0.0, 0.0], name='C')"
   ]
  },
  {
   "cell_type": "markdown",
   "metadata": {},
   "source": [
    "As described earlier, the hierarchical design approach used by mBuild allows `Compounds` to contain other `Compounds`. To add our three `Particles` to the hierarchy of our CH2 `Compound` we can use the `add` function. All we need to provide are the variable references to these three particles in a list-like format."
   ]
  },
  {
   "cell_type": "code",
   "execution_count": null,
   "metadata": {
    "collapsed": true
   },
   "outputs": [],
   "source": [
    "ch2.add([carbon, hydrogen, hydrogen2])"
   ]
  },
  {
   "cell_type": "markdown",
   "metadata": {},
   "source": [
    "We can use the `particles` method to view the `Particles` contained by a `Compound`. This method is written as a generator to conserve memory for large systems, so we'll need to convert to a `list`.\n",
    "\n",
    "#### Exercise\n",
    "\n",
    "Generate a list of the `Particles` within the CH2 `Compound`."
   ]
  },
  {
   "cell_type": "code",
   "execution_count": null,
   "metadata": {
    "collapsed": true
   },
   "outputs": [],
   "source": []
  },
  {
   "cell_type": "markdown",
   "metadata": {},
   "source": [
    "As we can see, our carbon `Particle` and two hydrogen `Particles` are now contained within our CH2 `Compound`. Now let's visualize our `Compound` to confirm we built this correctly.\n",
    "\n",
    "**Note:** For the purposes of this tutorial we are using a local `visualize` routine that utilizes `matplotlib` to view our molecules. mBuild also contains a `Compound.visualize()` routine that uses the `NGLview` package for molecule visualization; however, this routine is currently under construction."
   ]
  },
  {
   "cell_type": "code",
   "execution_count": null,
   "metadata": {
    "collapsed": true
   },
   "outputs": [],
   "source": [
    "visualize(ch2)"
   ]
  },
  {
   "cell_type": "markdown",
   "metadata": {},
   "source": [
    "Looking good! However, although we've added our three `Particles` to the CH2 `Compound`, we have yet to define any bonds between them. To accomplish this, we can use the `Compound.add_bond()` method to specify our two C-H bonds."
   ]
  },
  {
   "cell_type": "code",
   "execution_count": null,
   "metadata": {
    "collapsed": true
   },
   "outputs": [],
   "source": [
    "ch2.add_bond((carbon, hydrogen))\n",
    "ch2.add_bond((carbon, hydrogen2))\n",
    "visualize(ch2)"
   ]
  },
  {
   "cell_type": "markdown",
   "metadata": {},
   "source": [
    "Visually we now see that our CH2 `Compound` contains three `Particles` and two C-H bonds."
   ]
  },
  {
   "cell_type": "markdown",
   "metadata": {},
   "source": [
    "### Reusing components\n",
    "\n",
    "It would be quite tedious to have to go through each of the above steps every time we wanted to create a new CH2 `Compound`. However, this problem is easily solved by wrapping these routines together into a class.\n",
    "\n",
    "Here, we'll create a class for our CH2 moiety using the same approach we just took above so that we can easily reuse this piece when constructing more complex molecules."
   ]
  },
  {
   "cell_type": "code",
   "execution_count": null,
   "metadata": {
    "collapsed": true
   },
   "outputs": [],
   "source": [
    "%matplotlib notebook\n",
    "from visualize import visualize\n",
    "import mbuild as mb\n",
    "\n",
    "class CH2(mb.Compound):\n",
    "    def __init__(self):\n",
    "        super(CH2, self).__init__()\n",
    "        \n",
    "        carbon = mb.Particle(pos=[0.0, 0.0, 0.0], name='C')\n",
    "        hydrogen = mb.Particle(pos=[0.1, 0.0, 0.0], name='H')\n",
    "        hydrogen2 = mb.Particle(pos=[-0.1, 0.0, 0.0], name='H')\n",
    "        self.add([carbon, hydrogen, hydrogen2])\n",
    "        self.add_bond((carbon, hydrogen))\n",
    "        self.add_bond((carbon, hydrogen2))"
   ]
  },
  {
   "cell_type": "markdown",
   "metadata": {},
   "source": [
    "As we can see, our class definition contains the same commands we just used to the create the CH2 `Compound` above; however, we have replaced `ch2` with `self` so that these commands will be performed on any instance of our `CH2` class. Additionally, since we want our class instance to be an mBuild `Compound`, we specify that our `CH2` class should inherit from `mb.Compound`.\n",
    "\n",
    "#### Exercise\n",
    "Create an instance of the CH2 class and visualize the `Compound`."
   ]
  },
  {
   "cell_type": "code",
   "execution_count": null,
   "metadata": {
    "collapsed": true
   },
   "outputs": [],
   "source": []
  },
  {
   "cell_type": "markdown",
   "metadata": {},
   "source": [
    "While there are instances where creating `Compounds` particle-by-particle is useful, this process can get a bit tedious. It's much easier to create them by loading in pre-assembled building blocks. These can easily be created using software such as [Avogadro](https://avogadro.cc/). The `load()` function can create mBuild `Compounds` from a variety of common file formats (e.g. PDB, MOL2) that contain particle positions and bonds. Here, we'll create the same CH2 `Compound` by loading from a PDB file.\n",
    "\n",
    "**Note:** mBuild does not infer bonds. They must be explicitly defined in your code or in an input structure file."
   ]
  },
  {
   "cell_type": "code",
   "execution_count": null,
   "metadata": {
    "collapsed": true
   },
   "outputs": [],
   "source": [
    "ch2 = mb.load('ch2.pdb')\n",
    "visualize(ch2)"
   ]
  },
  {
   "cell_type": "markdown",
   "metadata": {},
   "source": [
    "### Connecting components\n",
    "\n",
    "We've already found that `Particles` can be connected (i.e. bonded) by using the `add_bond` routine; however, this does not actually move the atoms in space, and it would become burdensome to need to manually update the position of each atom. This is where [mBuild's `Port` class](http://mosdef-hub.github.io/mbuild/data_structures.html#mbuild.port.Port) comes into play. `Ports` in the most general sense define a location in space; however, in most cases these can be thought of as dangling bonds.\n",
    "\n",
    "Let's test this functionality by using `Ports` instead of `add_bond` to create CH2. First, we'll create an empty `Compound` for CH2 that we will add three `Particles` to at unrealistic locations."
   ]
  },
  {
   "cell_type": "code",
   "execution_count": null,
   "metadata": {
    "collapsed": true
   },
   "outputs": [],
   "source": [
    "ch2 = mb.Compound()\n",
    "carbon = mb.Particle(pos=[0.0, 0.0, 0.0], name='C')\n",
    "hydrogen = mb.Particle(pos=[1.0, 0.0, 0.0], name='H')\n",
    "hydrogen2 = mb.Particle(pos=[2.0, 0.0, 0.0], name='H')\n",
    "ch2.add([carbon, hydrogen, hydrogen2])\n",
    "visualize(ch2)"
   ]
  },
  {
   "cell_type": "markdown",
   "metadata": {},
   "source": [
    "Now we'll instantiate the `Port` class. We can attach the `Port` to the carbon atom by using the `anchor` attribute. This allows mBuild to know which atoms to create bonds between when two `Ports` are connected. We can also provide an `orientation` vector to give our `Port` a desired direction, and can use the `separation` argument to shift our `Port` from the position of the anchor `Particle`. Since we're going to be connecting to a hydrogen, we will shift our `Port` roughly half of a C-H bond length."
   ]
  },
  {
   "cell_type": "code",
   "execution_count": null,
   "metadata": {
    "collapsed": true
   },
   "outputs": [],
   "source": [
    "port_C = mb.Port(anchor=carbon, orientation=[1, 0, 0], separation=0.05)\n",
    "type(port_C)"
   ]
  },
  {
   "cell_type": "markdown",
   "metadata": {},
   "source": [
    "We now need to add this `Port` to the containment hierarchy of our CH2 molecule, again using the `add` method. We can also provide a descriptive label for our `Port` that we can use for easy access."
   ]
  },
  {
   "cell_type": "code",
   "execution_count": null,
   "metadata": {
    "collapsed": true
   },
   "outputs": [],
   "source": [
    "ch2.add(port_C, label='right')\n",
    "ch2['right']"
   ]
  },
  {
   "cell_type": "markdown",
   "metadata": {},
   "source": [
    "Now we need to add another `Port` to the carbon `Particle` and one `Port` to each hydrogen `Particle`, giving each of these distinct labels. We'll first add another `Port` to carbon and a `Port` on one of the hydrogens."
   ]
  },
  {
   "cell_type": "code",
   "execution_count": null,
   "metadata": {
    "collapsed": true
   },
   "outputs": [],
   "source": [
    "port2_C = mb.Port(anchor=carbon, orientation=[-1, 0, 0], separation=0.05)\n",
    "ch2.add(port2_C, label='left')\n",
    "\n",
    "port_H = mb.Port(anchor=hydrogen, orientation=[1, 0, 0], separation=0.05)\n",
    "ch2.add(port_H, label='H1')\n",
    "\n",
    "visualize(ch2)"
   ]
  },
  {
   "cell_type": "markdown",
   "metadata": {},
   "source": [
    "#### Exercise\n",
    "Create a `Port` on the second hydrogen atom and add to the CH2 `Compound` with the label `'H2'`."
   ]
  },
  {
   "cell_type": "code",
   "execution_count": null,
   "metadata": {
    "collapsed": true
   },
   "outputs": [],
   "source": []
  },
  {
   "cell_type": "markdown",
   "metadata": {},
   "source": [
    "The `force_overlap` function can be used to force the overlap of two `Ports` by performing a coordinate transform on one of the two `Compounds` that should be connected. This will also create a bond between the anchor `Particles` of each `Port`. We'll use this function here to connect one hydrogen to the carbon `Particle`."
   ]
  },
  {
   "cell_type": "code",
   "execution_count": null,
   "metadata": {
    "collapsed": true
   },
   "outputs": [],
   "source": [
    "mb.force_overlap(move_this=hydrogen,\n",
    "                 from_positions=ch2['H1'],\n",
    "                 to_positions=ch2['right'])\n",
    "visualize(ch2)"
   ]
  },
  {
   "cell_type": "markdown",
   "metadata": {},
   "source": [
    "#### Exercise\n",
    "Connect the second hydrogen to carbon to complete the CH2 molecule (i.e. connect `Port` `'H2'` to `Port` `'left'`) and visualize."
   ]
  },
  {
   "cell_type": "code",
   "execution_count": null,
   "metadata": {
    "collapsed": true
   },
   "outputs": [],
   "source": []
  },
  {
   "cell_type": "markdown",
   "metadata": {},
   "source": [
    "### Building larger `Compounds`\n",
    "\n",
    "In general, connecting atoms together using `Ports` to create small moieties is unnecessary as these can be loaded from structure files; however, this functionality is important for creating larger and more complex `Compounds`.\n",
    "\n",
    "#### Exercise\n",
    "Define a `Port` (labeled `'down'`) on the carbon `Particle` so that we can connect CH2 `Compounds` together."
   ]
  },
  {
   "cell_type": "code",
   "execution_count": null,
   "metadata": {
    "collapsed": true
   },
   "outputs": [],
   "source": [
    "%matplotlib notebook\n",
    "from visualize import visualize\n",
    "import mbuild as mb\n",
    "\n",
    "class CH2(mb.Compound):\n",
    "    def __init__(self):\n",
    "        super(CH2, self).__init__()\n",
    "        \n",
    "        mb.load('ch2.pdb', compound=self)\n",
    "        carbon = list(self.particles_by_name('C'))[0]\n",
    "        up_port = mb.Port(anchor=carbon, orientation=[0, 0, 1], separation=0.075)\n",
    "        down_port = mb.Port()\n",
    "        self.add(up_port, label='up')"
   ]
  },
  {
   "cell_type": "markdown",
   "metadata": {},
   "source": [
    "Now we'll explore how `Ports` can be used to connect `Compounds` by connecting two CH2 groups to create a C2H4 group. We'll first use mBuild's `clone` function to create two deep copies of our CH2 `Compound`.\n",
    "\n",
    "We can use the `translate` function to move one copy so that they are not on top of one another. We'll also add these to a temporary `Compound` so that we can visualize both simultaneously."
   ]
  },
  {
   "cell_type": "code",
   "execution_count": null,
   "metadata": {},
   "outputs": [],
   "source": [
    "ch2 = CH2()\n",
    "ch2_copy1 = mb.clone(ch2)\n",
    "ch2_copy2 = mb.clone(ch2)\n",
    "ch2_copy2.translate([1, 1, 1])\n",
    "temp_compound = mb.Compound()\n",
    "temp_compound.add((ch2_copy1, ch2_copy2))\n",
    "visualize(temp_compound)"
   ]
  },
  {
   "cell_type": "markdown",
   "metadata": {},
   "source": [
    "#### Exercise\n",
    "Create a C2H4 `Compound` by using `force_overlap` to connect the `'up'` `Port` of `ch2_copy1` with the `'down'` `Port` of `ch2_copy2`."
   ]
  },
  {
   "cell_type": "code",
   "execution_count": null,
   "metadata": {
    "collapsed": true
   },
   "outputs": [],
   "source": [
    "ch2_copy1 = mb.clone(ch2)\n",
    "ch2_copy2 = mb.clone(ch2)\n",
    "ch2_copy2.translate([1, 1, 1])\n",
    "\n",
    "# Command goes here"
   ]
  },
  {
   "cell_type": "markdown",
   "metadata": {},
   "source": [
    "We'll now create an empty `Compound` for our C2H4 molecule and add the two CH2 copies that are now connected."
   ]
  },
  {
   "cell_type": "code",
   "execution_count": null,
   "metadata": {},
   "outputs": [],
   "source": [
    "c2h4 = mb.Compound()\n",
    "c2h4.add((ch2_copy1, ch2_copy2))\n",
    "visualize(c2h4)"
   ]
  },
  {
   "cell_type": "markdown",
   "metadata": {},
   "source": [
    "### Building a linear alkane\n",
    "\n",
    "Now that we've explored the basics of creating mBuild `Compounds` and connecting them together, we'll use this approach to create a slightly more complex molecule, a linear butane.\n",
    "\n",
    "First, we'll update our CH2 class definition to add two ports, oriented in +z and -z."
   ]
  },
  {
   "cell_type": "code",
   "execution_count": null,
   "metadata": {
    "collapsed": true
   },
   "outputs": [],
   "source": [
    "%matplotlib notebook\n",
    "from visualize import visualize\n",
    "import mbuild as mb\n",
    "\n",
    "class CH2(mb.Compound):\n",
    "    def __init__(self):\n",
    "        super(CH2, self).__init__()\n",
    "        \n",
    "        mb.load('ch2.pdb', compound=self)\n",
    "        carbon = list(self.particles_by_name('C'))[0]\n",
    "        up_port = mb.Port(anchor=carbon, orientation=[0, 0, 1], separation=0.075)\n",
    "        down_port = mb.Port(anchor=carbon, orientation=[0, 0, -1], separation=0.075)\n",
    "        self.add(up_port, label='up')\n",
    "        self.add(down_port, label='down')"
   ]
  },
  {
   "cell_type": "markdown",
   "metadata": {},
   "source": [
    "We could approach our butane construction by connecting two CH2 moieties and two CH3 moieties. Alternatively, we could connect four CH2 moieties and cap the ends of the chain with hydrogen atoms. We'll go ahead and take the latter approach. As such, we'll need to also define a class for a hydrogen atom featuring a single port."
   ]
  },
  {
   "cell_type": "code",
   "execution_count": null,
   "metadata": {
    "collapsed": true,
    "scrolled": true
   },
   "outputs": [],
   "source": [
    "class Hydrogen(mb.Compound):\n",
    "    def __init__(self):\n",
    "        super(Hydrogen, self).__init__()\n",
    "        \n",
    "        self.add(mb.Particle(name='H'))\n",
    "        up_port = mb.Port(anchor=self[0], orientation=[0, 0, 1], separation=0.05)\n",
    "        self.add(up_port, 'up')"
   ]
  },
  {
   "cell_type": "markdown",
   "metadata": {},
   "source": [
    "We now have all of the pieces necessary to create a butane molecule. To begin, we'll instantiate an empty mBuild `Compound` to add our pieces to."
   ]
  },
  {
   "cell_type": "code",
   "execution_count": null,
   "metadata": {
    "collapsed": true
   },
   "outputs": [],
   "source": [
    "butane = mb.Compound()"
   ]
  },
  {
   "cell_type": "markdown",
   "metadata": {},
   "source": [
    "Now, we'll create one of our CH3 ends by connecting a CH2 group and a hydrogen atom. We'll then add these two `Compounds` to our butane, giving them each a label. Note that by providing `ch2[$]` as the label for our CH2 group, mBuild will create a list that any subsequent parts added to the `Compound` with the same label prefix will be appended to."
   ]
  },
  {
   "cell_type": "code",
   "execution_count": null,
   "metadata": {},
   "outputs": [],
   "source": [
    "hydrogen = Hydrogen()\n",
    "last_unit = CH2()\n",
    "mb.force_overlap(move_this=hydrogen,\n",
    "                 from_positions=hydrogen['up'],\n",
    "                 to_positions=last_unit['up'])\n",
    "butane.add(last_unit, label='ch2[$]')\n",
    "butane.add(hydrogen, label='up-cap')\n",
    "visualize(butane)"
   ]
  },
  {
   "cell_type": "markdown",
   "metadata": {},
   "source": [
    "To continue to create our butane molecule, we'll next attach three CH2 groups to the CH3 cap we've just created. This can be set up in a loop, where we'll use `force_overlap` to iteratively attach each new CH2 instantiation to the last unit on the chain."
   ]
  },
  {
   "cell_type": "code",
   "execution_count": null,
   "metadata": {},
   "outputs": [],
   "source": [
    "for _ in range(3):\n",
    "    current_unit = CH2()\n",
    "    mb.force_overlap(move_this=current_unit,\n",
    "                     from_positions=current_unit['up'],\n",
    "                     to_positions=last_unit['down'])\n",
    "    butane.add(current_unit, label='ch2[$]')\n",
    "    last_unit=current_unit\n",
    "\n",
    "visualize(butane)"
   ]
  },
  {
   "cell_type": "markdown",
   "metadata": {},
   "source": [
    "Finally, we need to cap the end of our molecule with a hydrogen atom to complete the creation of butane."
   ]
  },
  {
   "cell_type": "code",
   "execution_count": null,
   "metadata": {},
   "outputs": [],
   "source": [
    "hydrogen2 = Hydrogen()\n",
    "mb.force_overlap(move_this=hydrogen2,\n",
    "                 from_positions=hydrogen2['up'],\n",
    "                 to_positions=last_unit['down'])\n",
    "butane.add(hydrogen2, label='down-cap')\n",
    "visualize(butane)"
   ]
  },
  {
   "cell_type": "markdown",
   "metadata": {},
   "source": [
    "As shown previously, we can also wrap all of these commands into a class."
   ]
  },
  {
   "cell_type": "code",
   "execution_count": null,
   "metadata": {
    "collapsed": true
   },
   "outputs": [],
   "source": [
    "class Butane(mb.Compound):\n",
    "    def __init__(self):\n",
    "        super(Butane, self).__init__()\n",
    "        \n",
    "        hydrogen = Hydrogen()\n",
    "        last_unit = CH2()\n",
    "        mb.force_overlap(move_this=hydrogen,\n",
    "                         from_positions=hydrogen['up'],\n",
    "                         to_positions=last_unit['up'])\n",
    "        self.add(last_unit, label='ch2[$]')\n",
    "        self.add(hydrogen, label='up-cap')\n",
    "        for _ in range(3):\n",
    "            current_unit = CH2()\n",
    "            mb.force_overlap(move_this=current_unit,\n",
    "                             from_positions=current_unit['up'],\n",
    "                             to_positions=last_unit['down'])\n",
    "            self.add(current_unit, label='ch2[$]')\n",
    "            last_unit=current_unit\n",
    "        hydrogen = Hydrogen()\n",
    "        mb.force_overlap(move_this=hydrogen,\n",
    "                         from_positions=hydrogen['up'],\n",
    "                         to_positions=last_unit['down'])\n",
    "        self.add(hydrogen, label='down-cap')"
   ]
  },
  {
   "cell_type": "code",
   "execution_count": null,
   "metadata": {},
   "outputs": [],
   "source": [
    "butane = Butane()\n",
    "visualize(butane)"
   ]
  },
  {
   "cell_type": "markdown",
   "metadata": {},
   "source": [
    "### Creating flexible classes\n",
    "\n",
    "If we had to create a new class for each molecule we wanted to examine this would still be quite cumbersome if we wanted to screen over a large structural parameter space. However, since each `Compound` is defined as a Python class, one simply needs to define one or more top-level variables as arguments so that a single class definition could be used to create a whole family of molecules. We'll demonstrate that here by modifying the Butane class we've just defined to allow the creation of any linear alkane by adding a `chain_length` argument."
   ]
  },
  {
   "cell_type": "code",
   "execution_count": null,
   "metadata": {
    "collapsed": true
   },
   "outputs": [],
   "source": [
    "class Alkane(mb.Compound):\n",
    "    def __init__(self, chain_length):\n",
    "        super(Alkane, self).__init__()\n",
    "        \n",
    "        hydrogen = Hydrogen()\n",
    "        last_unit = CH2()\n",
    "        mb.force_overlap(move_this=hydrogen,\n",
    "                         from_positions=hydrogen['up'],\n",
    "                         to_positions=last_unit['up'])\n",
    "        self.add(last_unit, label='ch2[$]')\n",
    "        self.add(hydrogen, label='up-cap')\n",
    "        for _ in range(chain_length - 1):\n",
    "            current_unit = CH2()\n",
    "            mb.force_overlap(move_this=current_unit,\n",
    "                             from_positions=current_unit['up'],\n",
    "                             to_positions=last_unit['down'])\n",
    "            self.add(current_unit, label='ch2[$]')\n",
    "            last_unit=current_unit\n",
    "        hydrogen = Hydrogen()\n",
    "        mb.force_overlap(move_this=hydrogen,\n",
    "                         from_positions=hydrogen['up'],\n",
    "                         to_positions=last_unit['down'])\n",
    "        self.add(hydrogen, label='down-cap')"
   ]
  },
  {
   "cell_type": "markdown",
   "metadata": {},
   "source": [
    "We can now create any linear alkane by simply providing a different value for `chain_length` upon instantiation."
   ]
  },
  {
   "cell_type": "code",
   "execution_count": null,
   "metadata": {},
   "outputs": [],
   "source": [
    "ethane = Alkane(chain_length=2)\n",
    "visualize(ethane)"
   ]
  },
  {
   "cell_type": "code",
   "execution_count": null,
   "metadata": {},
   "outputs": [],
   "source": [
    "hexane = Alkane(chain_length=6)\n",
    "visualize(hexane)"
   ]
  },
  {
   "cell_type": "markdown",
   "metadata": {},
   "source": [
    "And those are the basics of mBuild! By defining flexible `Compound` classes with several top-level variables, a pool of `Compounds` spanning a large structural parameter space can be created by simply nesting several `for` loops."
   ]
  },
  {
   "cell_type": "code",
   "execution_count": null,
   "metadata": {
    "scrolled": false
   },
   "outputs": [],
   "source": [
    "alkanes = mb.Compound()\n",
    "for chain_length in range(2, 11, 2):\n",
    "    alkane = Alkane(chain_length=chain_length)\n",
    "    alkane.translate([len(alkanes.children) / 2, 0, 0])\n",
    "    alkanes.add(alkane)\n",
    "visualize(alkanes)"
   ]
  },
  {
   "cell_type": "code",
   "execution_count": null,
   "metadata": {
    "collapsed": true
   },
   "outputs": [],
   "source": []
  }
 ],
 "metadata": {
  "anaconda-cloud": {},
  "kernelspec": {
   "display_name": "Python 3",
   "language": "python",
   "name": "python3"
  },
  "language_info": {
   "codemirror_mode": {
    "name": "ipython",
    "version": 3
   },
   "file_extension": ".py",
   "mimetype": "text/x-python",
   "name": "python",
   "nbconvert_exporter": "python",
   "pygments_lexer": "ipython3",
   "version": "3.5.2"
  }
 },
 "nbformat": 4,
 "nbformat_minor": 1
}
